{
 "cells": [
  {
   "cell_type": "markdown",
   "metadata": {},
   "source": [
    "# Question1\n",
    "Create a function that takes a list of strings and integers, and filters out the list so that it\n",
    "returns a list of integers only.\n",
    "Examples\n",
    "filter_list([1, 2, 3, a, b, 4]) ➞ [1, 2, 3, 4]\n",
    "filter_list([A, 0,Edabit, 1729, Python, 1729]) ➞ [0, 1729]\n",
    "filter_list([Nothing, here]) ➞ []"
   ]
  },
  {
   "cell_type": "code",
   "execution_count": 14,
   "metadata": {},
   "outputs": [
    {
     "name": "stdout",
     "output_type": "stream",
     "text": [
      "[1, 2, 3, 4]\n",
      "[0, 1729, 1729]\n",
      "[]\n"
     ]
    }
   ],
   "source": [
    "#ANS 1.\n",
    "def str_list(a):\n",
    "    l=[]\n",
    "    for i in a:\n",
    "        if type(i) == int:\n",
    "            l.append(i)\n",
    "    return l\n",
    "\n",
    "print(str_list([1, 2, 3, \"a\", \"b\", 4]))\n",
    "print(str_list([\"A\", 0,\"Edabit\", 1729, \"Python\", 1729]))\n",
    "print(str_list([\"Nothing\", \"here\"]))"
   ]
  },
  {
   "cell_type": "markdown",
   "metadata": {},
   "source": [
    "# Question2\n",
    "Given a list of numbers, create a function which returns the list but with each element's\n",
    "index in the list added to itself. This means you add 0 to the number at index 0, add 1 to the\n",
    "number at index 1, etc...\n",
    "Examples\n",
    "add_indexes([0, 0, 0, 0, 0]) ➞ [0, 1, 2, 3, 4]\n",
    "add_indexes([1, 2, 3, 4, 5]) ➞ [1, 3, 5, 7, 9]\n",
    "add_indexes([5, 4, 3, 2, 1]) ➞ [5, 5, 5, 5, 5]"
   ]
  },
  {
   "cell_type": "code",
   "execution_count": 20,
   "metadata": {},
   "outputs": [
    {
     "name": "stdout",
     "output_type": "stream",
     "text": [
      "[0, 0, 0, 0, 0] -> [0, 1, 2, 3, 4]\n",
      "[1, 2, 3, 4, 5] -> [1, 3, 5, 7, 9]\n",
      "[5, 4, 3, 2, 1] -> [5, 5, 5, 5, 5]\n"
     ]
    }
   ],
   "source": [
    "# ANS 2.\n",
    "def add_indexes(b):\n",
    "    l=[]\n",
    "    for i in range(len(b)):\n",
    "        c=i+b[i]\n",
    "        l.append(c)\n",
    "    print(f'{b} -> {l}')\n",
    "add_indexes([0, 0, 0, 0, 0])\n",
    "add_indexes([1, 2, 3, 4, 5])\n",
    "add_indexes([5, 4, 3, 2, 1])"
   ]
  },
  {
   "cell_type": "markdown",
   "metadata": {},
   "source": [
    "# Question3\n",
    "Create a function that takes the height and radius of a cone as arguments and returns the\n",
    "volume of the cone rounded to the nearest hundredth. See the resources tab for the formula.\n",
    "\n",
    "Examples\n",
    "cone_volume(3, 2) ➞ 12.57"
   ]
  },
  {
   "cell_type": "code",
   "execution_count": 34,
   "metadata": {},
   "outputs": [
    {
     "name": "stdout",
     "output_type": "stream",
     "text": [
      "volume_cone -> 18.85\n",
      "volume_cone -> 1413.72\n",
      "volume_cone -> 0.0\n"
     ]
    }
   ],
   "source": [
    "#ANS 3.\n",
    "import math\n",
    "def volume_cone(a,b):\n",
    "    volume=1/3*(math.pi)*a**2*b\n",
    "    print(f'volume_cone -> {round(volume,2)}')\n",
    "\n",
    "volume_cone(3,2)\n",
    "volume_cone(15, 6) \n",
    "volume_cone(18, 0)"
   ]
  },
  {
   "cell_type": "markdown",
   "metadata": {},
   "source": [
    "# Question4\n",
    "This Triangular Number Sequence is generated from a pattern of dots that form a triangle.\n",
    "The first 5 numbers of the sequence, or dots, are:\n",
    "1, 3, 6, 10, 15\n",
    "This means that the first triangle has just one dot, the second one has three dots, the third one\n",
    "has 6 dots and so on.\n",
    "Write a function that gives the number of dots with its corresponding triangle number of the\n",
    "sequence.\n",
    "Examples\n",
    "triangle(1) ➞ 1\n",
    "triangle(6) ➞ 21\n",
    "triangle(215) ➞ 23220"
   ]
  },
  {
   "cell_type": "code",
   "execution_count": 35,
   "metadata": {},
   "outputs": [
    {
     "name": "stdout",
     "output_type": "stream",
     "text": [
      "triangle -> 1.0\n",
      "triangle -> 21.0\n",
      "triangle -> 23220.0\n"
     ]
    }
   ],
   "source": [
    "#ANS 4.\n",
    "def triangle(num):\n",
    "    z=(num*(num+1))/2\n",
    "    print(f'triangle -> {z}')\n",
    "\n",
    "triangle(1) \n",
    "triangle(6)\n",
    "triangle(215) "
   ]
  },
  {
   "cell_type": "markdown",
   "metadata": {},
   "source": [
    "# Question5\n",
    "Create a function that takes a list of numbers between 1 and 10 (excluding one number) and\n",
    "returns the missing number.\n",
    "Examples\n",
    "missing_num([1, 2, 3, 4, 6, 7, 8, 9, 10]) ➞ 5\n",
    "missing_num([7, 2, 3, 6, 5, 9, 1, 4, 8]) ➞ 10\n",
    "missing_num([10, 5, 1, 2, 4, 6, 8, 3, 9]) ➞ 7"
   ]
  },
  {
   "cell_type": "code",
   "execution_count": 37,
   "metadata": {},
   "outputs": [
    {
     "name": "stdout",
     "output_type": "stream",
     "text": [
      "list_number -> 5\n",
      "list_number -> 10\n",
      "list_number -> 7\n"
     ]
    }
   ],
   "source": [
    "#ANS 5.\n",
    "def list_number(a):\n",
    "    for i in range(1,11):\n",
    "        if i not in a:\n",
    "            print(f'list_number -> {i}')\n",
    "list_number([1, 2, 3, 4, 6, 7, 8, 9, 10]) \n",
    "list_number([7, 2, 3, 6, 5, 9, 1, 4, 8]) \n",
    "list_number([10, 5, 1, 2, 4, 6, 8, 3, 9]) \n",
    "        "
   ]
  },
  {
   "cell_type": "code",
   "execution_count": null,
   "metadata": {},
   "outputs": [],
   "source": []
  },
  {
   "cell_type": "code",
   "execution_count": null,
   "metadata": {},
   "outputs": [],
   "source": []
  }
 ],
 "metadata": {
  "kernelspec": {
   "display_name": "Python 3",
   "language": "python",
   "name": "python3"
  },
  "language_info": {
   "codemirror_mode": {
    "name": "ipython",
    "version": 3
   },
   "file_extension": ".py",
   "mimetype": "text/x-python",
   "name": "python",
   "nbconvert_exporter": "python",
   "pygments_lexer": "ipython3",
   "version": "3.6.5"
  }
 },
 "nbformat": 4,
 "nbformat_minor": 2
}
