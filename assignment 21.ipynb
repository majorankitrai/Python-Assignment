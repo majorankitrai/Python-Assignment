{
 "cells": [
  {
   "cell_type": "markdown",
   "metadata": {},
   "source": [
    "# Q 1. Add the current date to the text file today.txt as a string."
   ]
  },
  {
   "cell_type": "code",
   "execution_count": 4,
   "metadata": {},
   "outputs": [
    {
     "name": "stdout",
     "output_type": "stream",
     "text": [
      "25-01-23\n"
     ]
    }
   ],
   "source": [
    "# ANS 1.\n",
    "import datetime\n",
    "file= open(\"today.txt\",\"w\")\n",
    "file.write(datetime.datetime.now().strftime(\"%d-%m-%y\"))\n",
    "file.close()\n",
    "    \n",
    "file=open(\"today.txt\",\"r\") \n",
    "print(file.read())\n",
    "file.close()"
   ]
  },
  {
   "cell_type": "markdown",
   "metadata": {},
   "source": [
    "# Q 2. Read the text file today.txt into the string today_string"
   ]
  },
  {
   "cell_type": "code",
   "execution_count": 5,
   "metadata": {},
   "outputs": [
    {
     "name": "stdout",
     "output_type": "stream",
     "text": [
      "25-01-23\n"
     ]
    }
   ],
   "source": [
    "# ANS 2.\n",
    "file = open(\"today.txt\",\"r\")\n",
    "today_string = file.read()\n",
    "print(today_string)"
   ]
  },
  {
   "cell_type": "markdown",
   "metadata": {},
   "source": [
    "# Q 3. Parse the date from today_string."
   ]
  },
  {
   "cell_type": "code",
   "execution_count": 6,
   "metadata": {},
   "outputs": [
    {
     "name": "stdout",
     "output_type": "stream",
     "text": [
      "2023-01-25 00:00:00\n"
     ]
    }
   ],
   "source": [
    "# ANS 3.\n",
    "from datetime import datetime\n",
    "file = open(\"today.txt\",\"r\")\n",
    "parsed_date = datetime.strptime(today_string,'%d-%m-%y')\n",
    "print(parsed_date)\n"
   ]
  },
  {
   "cell_type": "markdown",
   "metadata": {},
   "source": [
    "# Q 4. List the files in your current directory"
   ]
  },
  {
   "cell_type": "code",
   "execution_count": 8,
   "metadata": {},
   "outputs": [
    {
     "name": "stdout",
     "output_type": "stream",
     "text": [
      "test.txt\n",
      "glass.data\n",
      "GUI Programming-1.ipynb\n",
      "zoo.py.ipynb\n",
      "sql practice.ipynb\n",
      "pagal.db-journal\n",
      "books.csv\n",
      "Programmig assignment 25.ipynb\n",
      "books.db\n",
      "19.3 MongoDB.7z\n",
      "details.csv\n",
      "practice question.ipynb\n",
      "pandas and numpy.ipynb\n",
      "pandas 4 .ipynb\n",
      "mydict.py\n",
      "19.3.2 pyMongo.ipynb\n",
      "oops discussion.ipynb\n",
      "today.txt\n",
      "bank.csv\n",
      "GUI Programming-6.ipynb\n",
      "practice sheet 2.ipynb\n",
      "SQLLITE ,map ,reduce ,filter,zip.ipynb\n",
      "GUI Programming-2.ipynb\n",
      "carbon_nanotubes.csv\n",
      "pandas class 3.ipynb\n",
      "numpy day 2.ipynb\n",
      "people.csv\n",
      "assignment 21.ipynb\n",
      "GUI Programming-3.ipynb\n",
      "GUI Programming-4.ipynb\n",
      "book.db\n",
      "GUI Programming-5.ipynb\n",
      "kama.py\n",
      "19.3.1 mongoDB introduction.ipynb\n",
      "ankittitanic.csv\n",
      "pandas class homework discussed .ipynb\n",
      "GUI Programming-7.ipynb\n",
      "ankit.py\n",
      "19.3.3 Atlas.ipynb\n",
      "priti.py\n",
      "pagal.db\n",
      "pandas day 2.ipynb\n",
      "Pandas.ipynb\n",
      "abki.py\n",
      "oops discussion-checkpoint.ipynb\n",
      "GUI Programming-6-checkpoint.ipynb\n",
      "pandas and numpy-checkpoint.ipynb\n",
      "19.3.2 pyMongo-checkpoint.ipynb\n",
      "19.3.1 mongoDB introduction-checkpoint.ipynb\n",
      "GUI Programming-7-checkpoint.ipynb\n",
      "assignment 21-checkpoint.ipynb\n",
      "SQLLITE ,map ,reduce ,filter,zip-checkpoint.ipynb\n",
      "practice question-checkpoint.ipynb\n",
      "practice sheet 2-checkpoint.ipynb\n",
      "GUI Programming-3-checkpoint.ipynb\n",
      "Programmig assignment 25-checkpoint.ipynb\n",
      "GUI Programming-2-checkpoint.ipynb\n",
      "sql practice-checkpoint.ipynb\n",
      "GUI Programming-5-checkpoint.ipynb\n",
      "pandas class 3-checkpoint.ipynb\n",
      "numpy day 2-checkpoint.ipynb\n",
      "zoo.py-checkpoint.ipynb\n",
      "pandas day 2-checkpoint.ipynb\n",
      "19.3.3 Atlas-checkpoint.ipynb\n",
      "pandas class homework discussed -checkpoint.ipynb\n",
      "GUI Programming-1-checkpoint.ipynb\n",
      "pandas 4 -checkpoint.ipynb\n",
      "Pandas-checkpoint.ipynb\n",
      "GUI Programming-4-checkpoint.ipynb\n",
      "python assignment program ritika.ipynb\n",
      "FSDS_Assignment_MongoDB.ipynb\n",
      "sqllite-main.zip\n",
      "assign 2 program ritika.ipynb\n",
      "DictModule.ipynb\n",
      "March 6th Class Task pandas_day_3.ipynb\n",
      "Ineuron-DataScience-c53c79398b2f0286b3d22f01094a88ed59ec78c7.zip\n",
      "python assign 1 program.ipynb\n",
      "iNeuron_Task-main.zip\n",
      "pandas_task.py\n",
      "AK_Ineuron-main (1).zip\n",
      "SqliteTask-main.zip\n",
      "FSDS_Pandas_Assignment_Mar05.ipynb\n",
      "python basic prog assignment 5.ipynb\n",
      "Tuplefunc.py\n",
      "Task_Titanic Dataset_5.3.3022.ipynb\n",
      "pandas and numpy.ipynb\n",
      "python assig3 program ritika.ipynb\n",
      "pandas 4 .ipynb\n",
      "TupleModule.ipynb\n",
      "DictFunc.py\n",
      "Task_Bank_Dataset_5.3.2022.ipynb\n",
      "Assignment_Python_basics_23_12_2021.ipynb\n",
      "02_-_Exercise.ipynb\n",
      "pandas class 3.ipynb\n",
      "test.log\n",
      "scrapper.py\n",
      "numpy day 2.ipynb\n",
      "Listfunc.py\n",
      "Bank_Assignment.ipynb\n",
      "assignment1.python.ritika.ipynb\n",
      "pandaschallenge1.ipynb\n",
      "FSDS_Assignment_SQLlite3.ipynb\n",
      "pandas class homework discussed .ipynb\n",
      "Class_assignements-main (1).zip\n",
      "SetModule.ipynb\n",
      "Setfunc.py\n",
      "Assignment_mySQL_CAR_dataset.ipynb\n",
      "Listfunc.cpython-310.pyc\n",
      "Dictionaryfunc.cpython-310.pyc\n",
      "Titanic_Assignment.ipynb\n",
      "iNeuron-main (1).zip\n",
      "pandas day 2.ipynb\n",
      "live_class-main (1).zip\n",
      "Pandas.ipynb\n",
      "Class assignment_Pandas_5_march.ipynb\n",
      "ListModule.ipynb\n",
      "assignment1.python.ritika-checkpoint.ipynb\n",
      "ListModule-checkpoint.ipynb\n",
      "assign 2 program ritika-checkpoint.ipynb\n",
      "pandas and numpy-checkpoint.ipynb\n",
      "python assign 1 program-checkpoint.ipynb\n",
      "March 6th Class Task pandas_day_3-checkpoint.ipynb\n",
      "Task_Titanic Dataset_5.3.3022-checkpoint.ipynb\n",
      "Task_Bank_Dataset_5.3.2022-checkpoint.ipynb\n",
      "DictModule-checkpoint.ipynb\n",
      "Assignment_Python_basics_23_12_2021-checkpoint.ipynb\n",
      "FSDS_Assignment_MongoDB-checkpoint.ipynb\n",
      "Class assignment_Pandas_5_march-checkpoint.ipynb\n",
      "TupleModule-checkpoint.ipynb\n",
      "FSDS_Assignment_SQLlite3-checkpoint.ipynb\n",
      "python basic prog assignment 5-checkpoint.ipynb\n",
      "02_-_Exercise-checkpoint.ipynb\n",
      "Assignment_mySQL_CAR_dataset-checkpoint.ipynb\n",
      "pandas class 3-checkpoint.ipynb\n",
      "Titanic_Assignment-checkpoint.ipynb\n",
      "numpy day 2-checkpoint.ipynb\n",
      "python assig3 program ritika-checkpoint.ipynb\n",
      "pandaschallenge1-checkpoint.ipynb\n",
      "pandas day 2-checkpoint.ipynb\n",
      "FSDS_Pandas_Assignment_Mar05-checkpoint.ipynb\n",
      "Bank_Assignment-checkpoint.ipynb\n",
      "pandas class homework discussed -checkpoint.ipynb\n",
      "pandas 4 -checkpoint.ipynb\n",
      "Pandas-checkpoint.ipynb\n",
      "python assignment program ritika-checkpoint.ipynb\n",
      "SetModule-checkpoint.ipynb\n",
      "priti.cpython-36.pyc\n",
      "ankit.cpython-36.pyc\n",
      "ree.py\n",
      "yoya.py\n",
      "kadu.py\n"
     ]
    }
   ],
   "source": [
    "# ANS 4.\n",
    "import os\n",
    "for folders, subfolders, files in os.walk(os.getcwd()):\n",
    "    for file in files:\n",
    "        print(file)"
   ]
  },
  {
   "cell_type": "markdown",
   "metadata": {},
   "source": [
    "# Q 5. Create a list of all of the files in your parent directory (minimum five files should be available)."
   ]
  },
  {
   "cell_type": "code",
   "execution_count": 14,
   "metadata": {},
   "outputs": [
    {
     "data": {
      "text/plain": [
       "['test.txt',\n",
       " '.ipynb_checkpoints',\n",
       " 'glass.data',\n",
       " 'GUI Programming-1.ipynb',\n",
       " 'zoo.py.ipynb',\n",
       " 'sql practice.ipynb',\n",
       " 'pagal.db-journal',\n",
       " 'books.csv',\n",
       " 'Programmig assignment 25.ipynb',\n",
       " 'books.db',\n",
       " '19.3 MongoDB.7z',\n",
       " 'details.csv',\n",
       " 'Untitled Folder',\n",
       " 'practice question.ipynb',\n",
       " 'pandas and numpy.ipynb',\n",
       " 'pandas 4 .ipynb',\n",
       " 'mydict.py',\n",
       " '19.3.2 pyMongo.ipynb',\n",
       " 'oops discussion.ipynb',\n",
       " 'today.txt',\n",
       " 'bank.csv',\n",
       " 'GUI Programming-6.ipynb',\n",
       " 'practice sheet 2.ipynb',\n",
       " 'SQLLITE ,map ,reduce ,filter,zip.ipynb',\n",
       " '__pycache__',\n",
       " 'GUI Programming-2.ipynb',\n",
       " 'boys',\n",
       " 'carbon_nanotubes.csv',\n",
       " 'pandas class 3.ipynb',\n",
       " 'numpy day 2.ipynb',\n",
       " 'people.csv',\n",
       " 'assignment 21.ipynb',\n",
       " 'GUI Programming-3.ipynb',\n",
       " 'GUI Programming-4.ipynb',\n",
       " 'book.db',\n",
       " 'GUI Programming-5.ipynb',\n",
       " 'kama.py',\n",
       " '19.3.1 mongoDB introduction.ipynb',\n",
       " 'ankittitanic.csv',\n",
       " 'pandas class homework discussed .ipynb',\n",
       " 'GUI Programming-7.ipynb',\n",
       " 'ankit.py',\n",
       " '19.3.3 Atlas.ipynb',\n",
       " 'priti.py',\n",
       " 'raijee',\n",
       " 'pagal.db',\n",
       " 'pandas day 2.ipynb',\n",
       " 'Pandas.ipynb',\n",
       " 'abki.py']"
      ]
     },
     "execution_count": 14,
     "metadata": {},
     "output_type": "execute_result"
    }
   ],
   "source": [
    "# ANS .\n",
    "import os\n",
    "os.listdir()"
   ]
  },
  {
   "cell_type": "markdown",
   "metadata": {},
   "source": [
    "# Q 6. Use multiprocessing to create three separate processes. Make each one wait a random number of seconds between one and five, print the current time, and then exit.\n"
   ]
  },
  {
   "cell_type": "code",
   "execution_count": 15,
   "metadata": {},
   "outputs": [
    {
     "name": "stdout",
     "output_type": "stream",
     "text": [
      "Proc_one_Starttime -> 2023-01-25 20:27:41.468253\n",
      "Proc_two_Starttime -> 2023-01-25 20:27:41.475067\n",
      "Proc_two_Starttime -> 2023-01-25 20:27:41.483554\n",
      "Proc_two_Endtime -> 2023-01-25 20:27:44.484381\n",
      "Proc_two_Endtime -> 2023-01-25 20:27:45.492761\n",
      "Proc_one_Endtime -> 2023-01-25 20:27:46.483465\n"
     ]
    }
   ],
   "source": [
    "#ANS .\n",
    "import multiprocessing\n",
    "import time \n",
    "import random\n",
    "import datetime\n",
    "\n",
    "def procOne():\n",
    "    print(f'Proc_one_Starttime -> {datetime.datetime.now()}')\n",
    "    time.sleep(random.randint(1,5))\n",
    "    print(f'Proc_one_Endtime -> {datetime.datetime.now()}')\n",
    "    \n",
    "def procTwo():\n",
    "    print(f'Proc_two_Starttime -> {datetime.datetime.now()}')\n",
    "    time.sleep(random.randint(1,5))\n",
    "    print(f'Proc_two_Endtime -> {datetime.datetime.now()}')\n",
    "\n",
    "def procThree():\n",
    "    print(f'Proc_two_Starttime -> {datetime.datetime.now()}')\n",
    "    time.sleep(random.randint(1,5))\n",
    "    print(f'Proc_two_Endtime -> {datetime.datetime.now()}')\n",
    "    \n",
    "if __name__ == \"__main__\":    \n",
    "    p1 = multiprocessing.Process(target=procOne)\n",
    "    p2 = multiprocessing.Process(target=procTwo)\n",
    "    p3 = multiprocessing.Process(target=procThree)\n",
    "\n",
    "    p1.start()\n",
    "    p2.start()\n",
    "    p3.start()\n",
    "\n",
    "    p1.join()\n",
    "    p2.join()\n",
    "    p3.join()"
   ]
  },
  {
   "cell_type": "markdown",
   "metadata": {},
   "source": [
    "# Q 7. Create a date object of your day of birth."
   ]
  },
  {
   "cell_type": "code",
   "execution_count": 24,
   "metadata": {},
   "outputs": [
    {
     "name": "stdout",
     "output_type": "stream",
     "text": [
      "1999-01-16 00:00:00 <class 'datetime.datetime'>\n"
     ]
    }
   ],
   "source": [
    "# ANS 7.\n",
    "from datetime import datetime\n",
    "dob = datetime.strptime(\"16/01/1999\",\"%d/%m/%Y\")\n",
    "print(dob,type(dob))"
   ]
  },
  {
   "cell_type": "markdown",
   "metadata": {},
   "source": [
    "# Q 8. What day of the week was your day of birth?"
   ]
  },
  {
   "cell_type": "code",
   "execution_count": 28,
   "metadata": {},
   "outputs": [
    {
     "name": "stdout",
     "output_type": "stream",
     "text": [
      "Saturday\n"
     ]
    }
   ],
   "source": [
    "# ANS 8.\n",
    "from datetime import datetime\n",
    "dob = datetime(1999,1,16)\n",
    "print(dob.strftime(\"%A\"))"
   ]
  },
  {
   "cell_type": "markdown",
   "metadata": {},
   "source": [
    "# Q 9. When will you be (or when were you) 10,000 days old?"
   ]
  },
  {
   "cell_type": "code",
   "execution_count": 32,
   "metadata": {},
   "outputs": [
    {
     "data": {
      "text/plain": [
       "datetime.datetime(1971, 8, 31, 0, 0)"
      ]
     },
     "execution_count": 32,
     "metadata": {},
     "output_type": "execute_result"
    }
   ],
   "source": [
    "# ANS 9.\n",
    "from datetime import datetime, timedelta\n",
    "my_dob = datetime.strptime(\"16/01/1999\",'%d/%m/%Y')\n",
    "future_date = my_dob-timedelta(10000)\n",
    "future_date"
   ]
  },
  {
   "cell_type": "code",
   "execution_count": null,
   "metadata": {},
   "outputs": [],
   "source": []
  }
 ],
 "metadata": {
  "kernelspec": {
   "display_name": "Python 3",
   "language": "python",
   "name": "python3"
  },
  "language_info": {
   "codemirror_mode": {
    "name": "ipython",
    "version": 3
   },
   "file_extension": ".py",
   "mimetype": "text/x-python",
   "name": "python",
   "nbconvert_exporter": "python",
   "pygments_lexer": "ipython3",
   "version": "3.6.5"
  }
 },
 "nbformat": 4,
 "nbformat_minor": 2
}
