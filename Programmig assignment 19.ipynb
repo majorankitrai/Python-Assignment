{
 "cells": [
  {
   "cell_type": "markdown",
   "metadata": {},
   "source": [
    "# Question1\n",
    "Create a function that takes a string and returns a string in which each character is repeated\n",
    "once.\n",
    "Examples\n",
    "double_char(String) ➞ SSttrriinngg\n",
    "double_char(Hello World!) ➞ HHeelllloo WWoorrlldd!!\n",
    "double_char(1234!_ ) ➞ 11223344!!__ "
   ]
  },
  {
   "cell_type": "code",
   "execution_count": 43,
   "metadata": {},
   "outputs": [
    {
     "name": "stdout",
     "output_type": "stream",
     "text": [
      "➞  SSttrriinngg\n",
      "➞  HHeelllloo  WWoorrlldd!!\n",
      "➞  11223344!!__\n"
     ]
    }
   ],
   "source": [
    "# ANS 1.\n",
    "def string(a):\n",
    "    b=' '\n",
    "    for i in a:\n",
    "        b = b + i*2\n",
    "    return b\n",
    "print(f'➞ {string(\"String\")}')\n",
    "print(f'➞ {string(\"Hello World!\")}')\n",
    "print(f'➞ {string(\"1234!_\")}')\n",
    "        "
   ]
  },
  {
   "cell_type": "markdown",
   "metadata": {},
   "source": [
    "# Question2\n",
    "Create a function that reverses a boolean value and returns the string boolean expected\n",
    "if another variable type is given.\n",
    "Examples\n",
    "reverse(True) ➞ False\n",
    "reverse(False) ➞ True\n",
    "reverse(0) ➞ boolean expected\n",
    "reverse(None) ➞ boolean expected"
   ]
  },
  {
   "cell_type": "code",
   "execution_count": 44,
   "metadata": {},
   "outputs": [
    {
     "name": "stdout",
     "output_type": "stream",
     "text": [
      "reverse(True) --> False\n",
      "reverse(False) --> True\n",
      "reverse(0) --> boolean excepted\n",
      "reverse(None) --> boolean excepted\n"
     ]
    }
   ],
   "source": [
    "# ANS 2.\n",
    "def reverse(a):\n",
    "    if type(a) == bool:\n",
    "        return not a\n",
    "    else:\n",
    "        return \"boolean excepted\"\n",
    "\n",
    "print(f'reverse(True) --> {reverse(True)}')\n",
    "print(f'reverse(False) --> {reverse(False)}')\n",
    "print(f'reverse(0) --> {reverse(0)}')\n",
    "print(f'reverse(None) --> {reverse(None)}')"
   ]
  },
  {
   "cell_type": "markdown",
   "metadata": {},
   "source": [
    "# Question3\n",
    "Create a function that returns the thickness (in meters) of a piece of paper after folding it n\n",
    "number of times. The paper starts off with a thickness of 0.5mm.\n",
    "Examples\n",
    "num_layers(1) ➞ 0.001m\n",
    "# Paper folded once is 1mm (equal to 0.001m)\n",
    "num_layers(4) ➞ 0.008m\n",
    "# Paper folded 4 times is 8mm (equal to 0.008m)\n",
    "num_layers(21) ➞ 1048.576m\n",
    "# Paper folded 21 times is 1048576mm (equal to 1048.576m)"
   ]
  },
  {
   "cell_type": "code",
   "execution_count": 45,
   "metadata": {},
   "outputs": [
    {
     "name": "stdout",
     "output_type": "stream",
     "text": [
      "Output ➞ 0.001m\n",
      "Output ➞ 0.008m\n",
      "Output ➞ 1048.576m\n"
     ]
    }
   ],
   "source": [
    "#ANS 3.\n",
    "def num_layers(in_num):\n",
    "    out_num = 0.5\n",
    "    for ele in range(in_num):\n",
    "        out_num *= 2\n",
    "    print(f'Output ➞ {out_num/1000}m')\n",
    "    \n",
    "num_layers(1)\n",
    "num_layers(4)\n",
    "num_layers(21)"
   ]
  },
  {
   "cell_type": "code",
   "execution_count": null,
   "metadata": {},
   "outputs": [],
   "source": [
    "Question4\n",
    "\n",
    "Create a function that takes a single string as argument and returns an ordered list containing\n",
    "the indices of all capital letters in the string.\n",
    "Examples\n",
    "index_of_caps(eDaBiT) ➞ [1, 3, 5]\n",
    "index_of_caps(eQuINoX) ➞ [1, 3, 4, 6]\n",
    "index_of_caps(determine) ➞ []\n",
    "index_of_caps(STRIKE) ➞ [0, 1, 2, 3, 4, 5]\n",
    "index_of_caps(quot) ➞ [1]"
   ]
  },
  {
   "cell_type": "code",
   "execution_count": 46,
   "metadata": {},
   "outputs": [
    {
     "name": "stdout",
     "output_type": "stream",
     "text": [
      "eDaBiT ➞ [1, 3, 5]\n",
      "eQuINoX ➞ [1, 3, 4, 6]\n",
      "determine ➞ []\n",
      "STRIKE ➞ [0, 1, 2, 3, 4, 5]\n",
      "sUn ➞ [1]\n"
     ]
    }
   ],
   "source": [
    "#ANS 4.\n",
    "def index_of_caps(in_string):\n",
    "    out_string = []\n",
    "    for ele in in_string:\n",
    "        if ele.isupper():\n",
    "            out_string.append(in_string.index(ele))\n",
    "    print(f'{in_string} ➞ {out_string}')\n",
    "\n",
    "index_of_caps(\"eDaBiT\")\n",
    "index_of_caps(\"eQuINoX\")\n",
    "index_of_caps(\"determine\")\n",
    "index_of_caps(\"STRIKE\")\n",
    "index_of_caps(\"sUn\")"
   ]
  },
  {
   "cell_type": "markdown",
   "metadata": {},
   "source": [
    "# Question5\n",
    "Using list comprehensions, create a function that finds all even numbers from 1 to the given\n",
    "number.\n",
    "Examples\n",
    "find_even_nums(8) ➞ [2, 4, 6, 8]\n",
    "find_even_nums(4) ➞ [2, 4]\n",
    "find_even_nums(2) ➞ [2]"
   ]
  },
  {
   "cell_type": "code",
   "execution_count": 48,
   "metadata": {},
   "outputs": [
    {
     "name": "stdout",
     "output_type": "stream",
     "text": [
      "Output ➞ [2, 4, 6, 8]\n",
      "Output ➞ [2, 4]\n",
      "Output ➞ [2]\n"
     ]
    }
   ],
   "source": [
    "#ANS 5.\n",
    "def find_even_nums(in_num):\n",
    "    out_list = [i for i in range(1,in_num+1) if i%2 == 0]\n",
    "    print(f'Output ➞ {out_list}')\n",
    "    \n",
    "find_even_nums(8)\n",
    "find_even_nums(4)\n",
    "find_even_nums(2)\n"
   ]
  },
  {
   "cell_type": "code",
   "execution_count": null,
   "metadata": {},
   "outputs": [],
   "source": []
  },
  {
   "cell_type": "code",
   "execution_count": null,
   "metadata": {},
   "outputs": [],
   "source": []
  }
 ],
 "metadata": {
  "kernelspec": {
   "display_name": "Python 3",
   "language": "python",
   "name": "python3"
  },
  "language_info": {
   "codemirror_mode": {
    "name": "ipython",
    "version": 3
   },
   "file_extension": ".py",
   "mimetype": "text/x-python",
   "name": "python",
   "nbconvert_exporter": "python",
   "pygments_lexer": "ipython3",
   "version": "3.6.5"
  }
 },
 "nbformat": 4,
 "nbformat_minor": 2
}
